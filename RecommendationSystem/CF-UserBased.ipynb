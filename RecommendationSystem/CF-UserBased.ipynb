{
 "cells": [
  {
   "cell_type": "code",
   "execution_count": 1,
   "metadata": {},
   "outputs": [
    {
     "data": {
      "application/javascript": [
       "IPython.notebook.set_autosave_interval(0)"
      ]
     },
     "metadata": {},
     "output_type": "display_data"
    },
    {
     "name": "stdout",
     "output_type": "stream",
     "text": [
      "Autosave disabled\n"
     ]
    }
   ],
   "source": [
    "%autosave 0"
   ]
  },
  {
   "cell_type": "code",
   "execution_count": 2,
   "metadata": {},
   "outputs": [],
   "source": [
    "import sys\n",
    "import math\n",
    "import random\n",
    "from operator import itemgetter"
   ]
  },
  {
   "cell_type": "code",
   "execution_count": 10,
   "metadata": {},
   "outputs": [],
   "source": [
    "class UserBasedCF():\n",
    "    def __init__(self):\n",
    "        self.trainset = {}\n",
    "        self.testset = {}\n",
    "        \n",
    "        self.n_sim_user = 20\n",
    "        self.n_rec_movie = 10\n",
    "        \n",
    "        self.user_sim_mat = {}\n",
    "        self.movie_popular = {}\n",
    "        self.movie_count = 0\n",
    "        \n",
    "        print('similar user number = %d' % self.n_sim_user)\n",
    "        print('recommended movie number = %d' % self.n_rec_movie)\n",
    "        \n",
    "    @staticmethod\n",
    "    def loadfile(filename):\n",
    "        fp = open(filename, 'r')\n",
    "        for i, line in enumerate(fp):\n",
    "            yield line.strip('\\r\\n')\n",
    "            if i > 0 and i % 100000 == 0:\n",
    "                print('loading %s(%s)' % (filename, i))\n",
    "        fp.close()\n",
    "        print('load %s success' % filename)\n",
    "        \n",
    "    def generate_dataset(self, filename, pivot=0.7):\n",
    "        trainset_len = 0\n",
    "        testset_len = 0\n",
    "        \n",
    "        for line in self.loadfile(filename):\n",
    "            user, movie, rating, _ = line.split('\\t')\n",
    "            if random.random() < pivot:\n",
    "                self.trainset.setdefault(user, {})\n",
    "                self.trainset[user][movie] = int(rating)\n",
    "                trainset_len += 1\n",
    "            else:\n",
    "                self.testset.setdefault(user, {})\n",
    "                self.testset[user][movie] = int(rating)\n",
    "                testset_len += 1\n",
    "                \n",
    "        print('分离训练集和测试集成功')\n",
    "        print('train set = %s' % trainset_len)\n",
    "        print('test set = %s' % testset_len)\n",
    "        \n",
    "    def calc_user_sim(self):\n",
    "        print('building movie-users inverse table ...')\n",
    "        movie2users = dict()\n",
    "        \n",
    "        for user, movies in self.trainset.items():\n",
    "            for movie in movies:\n",
    "                if movie not in movie2users:\n",
    "                    movie2users[movie] = set()\n",
    "                movie2users[movie].add(user)\n",
    "                if movie not in self.movie_popular:\n",
    "                    self.movie_popular[movie] = 0\n",
    "                self.movie_popular[movie] += 1\n",
    "        print('build movie-users inverse table success')\n",
    "        \n",
    "        self.movie_count = len(movie2users)\n",
    "        print('total movie number = %d' % self.movie_count)\n",
    "        \n",
    "        usersim_mat = self.user_sim_mat\n",
    "        print('building user co-rated movies matrix ...')\n",
    "        \n",
    "        for movie, users in movie2users.items():\n",
    "            for u in users:\n",
    "                for v in users:\n",
    "                    if u == v:\n",
    "                        continue\n",
    "                    usersim_mat.setdefault(u, {})\n",
    "                    usersim_mat[u].setdefault(v, 0)\n",
    "                    usersim_mat[u][v] += 1\n",
    "        print('build user co-rated movies matrix success')\n",
    "        \n",
    "        print('calculating user similarity matrix ...')\n",
    "        simfactor_count = 0\n",
    "        PRINT_STEP = 2000000\n",
    "        for u, related_users in usersim_mat.items():\n",
    "            for v, count in related_users.items():\n",
    "                usersim_mat[u][v] = count / math.sqrt(len(self.trainset[u]) * len(self.trainset[v]))\n",
    "                simfactor_count += 1\n",
    "                if simfactor_count % PRINT_STEP == 0:\n",
    "                    print('calculating user similarity factor(%d)' % simfactor_count)\n",
    "        print('calculate user similarity matrix(similarity factor) success')\n",
    "        print('Total similarity factor number = %d' % simfactor_count)\n",
    "        \n",
    "    def recommend(self, user):\n",
    "        K = self.n_sim_user\n",
    "        N = self.n_rec_movie\n",
    "        rank = dict()\n",
    "        watched_movies = self.trainset[user]\n",
    "        \n",
    "        for v, wuv in sorted(self.user_sim_mat[user].items(),\n",
    "                            key=itemgetter(1),\n",
    "                            reverse=True)[0:K]:\n",
    "            for movie, rating in self.trainset[v].items():\n",
    "                if movie in watched_movies:\n",
    "                    continue\n",
    "                rank.setdefault(movie, 0)\n",
    "                rank[movie] += wuv * rating\n",
    "        return sorted(rank.items(),\n",
    "                     key=itemgetter(1),\n",
    "                     reverse=True)[0:N]\n",
    "    \n",
    "    def evaluate(self):\n",
    "        print('Evaluation start ...')\n",
    "        \n",
    "        N = self.n_rec_movie\n",
    "        hit = 0\n",
    "        rec_count = 0\n",
    "        test_count = 0\n",
    "        all_rec_movies = set()\n",
    "        popular_sum = 0\n",
    "        \n",
    "        for i, user in enumerate(self.trainset):\n",
    "            if i > 0 and i % 500 == 0:\n",
    "                print('recommended for %d users' % i)\n",
    "            test_movies = self.testset.get(user, {})\n",
    "            rec_movies = self.recommend(user)\n",
    "            \n",
    "            for movie, _ in rec_movies:\n",
    "                if movie in test_movies:\n",
    "                    hit += 1\n",
    "                all_rec_movies.add(movie)\n",
    "                popular_sum += math.log(1 + self.movie_popular[movie])\n",
    "            rec_count += N\n",
    "            test_count += len(test_movies)\n",
    "            \n",
    "        precision = hit / (1.0 * rec_count)\n",
    "        recall = hit / (1.0 * test_count)\n",
    "        coverage = len(all_rec_movies) / (1.0 * self.movie_count)\n",
    "        popularity = popular_sum / (1.0 * rec_count)\n",
    "        \n",
    "        print('precision = %.4f \\t recall = %.4f \\t coverage = %.4f \\t popularity = %.4f' % (precision, recall, coverage, popularity))\n",
    "        "
   ]
  },
  {
   "cell_type": "code",
   "execution_count": 11,
   "metadata": {},
   "outputs": [
    {
     "name": "stdout",
     "output_type": "stream",
     "text": [
      "similar user number = 20\n",
      "recommended movie number = 10\n"
     ]
    }
   ],
   "source": [
    "ratingfile = 'u.data'\n",
    "\n",
    "usercf = UserBasedCF()"
   ]
  },
  {
   "cell_type": "code",
   "execution_count": 12,
   "metadata": {},
   "outputs": [
    {
     "name": "stdout",
     "output_type": "stream",
     "text": [
      "load u.data success\n",
      "分离训练集和测试集成功\n",
      "train set = 70097\n",
      "test set = 29903\n"
     ]
    }
   ],
   "source": [
    "usercf.generate_dataset(ratingfile, pivot=0.7)"
   ]
  },
  {
   "cell_type": "code",
   "execution_count": 13,
   "metadata": {},
   "outputs": [
    {
     "name": "stdout",
     "output_type": "stream",
     "text": [
      "building movie-users inverse table ...\n",
      "build movie-users inverse table success\n",
      "total movie number = 1631\n",
      "building user co-rated movies matrix ...\n",
      "build user co-rated movies matrix success\n",
      "calculating user similarity matrix ...\n",
      "calculate user similarity matrix(similarity factor) success\n",
      "Total similarity factor number = 808140\n"
     ]
    }
   ],
   "source": [
    "usercf.calc_user_sim()"
   ]
  },
  {
   "cell_type": "code",
   "execution_count": 14,
   "metadata": {},
   "outputs": [
    {
     "name": "stdout",
     "output_type": "stream",
     "text": [
      "Evaluation start ...\n",
      "recommended for 500 users\n",
      "precision = 0.3888 \t recall = 0.1226 \t coverage = 0.2109 \t popularity = 5.2920\n"
     ]
    }
   ],
   "source": [
    "usercf.evaluate()"
   ]
  },
  {
   "cell_type": "code",
   "execution_count": 25,
   "metadata": {},
   "outputs": [
    {
     "data": {
      "text/plain": [
       "[('50', 15.274370411916424),\n",
       " ('121', 14.840822341851513),\n",
       " ('181', 13.83940152147533),\n",
       " ('222', 12.211569195544458),\n",
       " ('98', 11.896459703280282),\n",
       " ('234', 11.133083591936712),\n",
       " ('64', 11.110588745076612),\n",
       " ('597', 10.932243501114469),\n",
       " ('748', 10.829978114871599),\n",
       " ('118', 10.732301023154479)]"
      ]
     },
     "execution_count": 25,
     "metadata": {},
     "output_type": "execute_result"
    }
   ],
   "source": [
    "usercf.recommend('186')"
   ]
  }
 ],
 "metadata": {
  "kernelspec": {
   "display_name": "Python 3",
   "language": "python",
   "name": "python3"
  },
  "language_info": {
   "codemirror_mode": {
    "name": "ipython",
    "version": 3
   },
   "file_extension": ".py",
   "mimetype": "text/x-python",
   "name": "python",
   "nbconvert_exporter": "python",
   "pygments_lexer": "ipython3",
   "version": "3.7.4"
  }
 },
 "nbformat": 4,
 "nbformat_minor": 2
}
